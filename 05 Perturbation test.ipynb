{
 "cells": [
  {
   "cell_type": "code",
   "execution_count": 1,
   "metadata": {
    "scrolled": true
   },
   "outputs": [
    {
     "name": "stderr",
     "output_type": "stream",
     "text": [
      "C:\\Anaconda3\\lib\\site-packages\\gensim\\utils.py:1197: UserWarning: detected Windows; aliasing chunkize to chunkize_serial\n",
      "  warnings.warn(\"detected Windows; aliasing chunkize to chunkize_serial\")\n",
      "C:\\Anaconda3\\lib\\site-packages\\sklearn\\cross_validation.py:41: DeprecationWarning: This module was deprecated in version 0.18 in favor of the model_selection module into which all the refactored classes and functions are moved. Also note that the interface of the new CV iterators are different from that of this module. This module will be removed in 0.20.\n",
      "  \"This module will be removed in 0.20.\", DeprecationWarning)\n"
     ]
    }
   ],
   "source": [
    "%matplotlib inline\n",
    "import warnings\n",
    "warnings. filterwarnings(\"ignore\")\n",
    "import sqlite3\n",
    "import pandas as pd\n",
    "import numpy as np\n",
    "import nltk\n",
    "import string\n",
    "import matplotlib.pyplot as plt\n",
    "import seaborn as sns\n",
    "from sklearn. feature_extraction. text import TfidfTransformer\n",
    "from sklearn. feature_extraction. text import TfidfVectorizer\n",
    "from sklearn. feature_extraction. text import CountVectorizer\n",
    "from sklearn. metrics import confusion_matrix\n",
    "from sklearn import metrics\n",
    "from sklearn. metrics import roc_curve, auc\n",
    "from nltk. stem. porter import PorterStemmer\n",
    "import re\n",
    "import string\n",
    "from nltk. corpus import stopwords\n",
    "from nltk. stem import PorterStemmer\n",
    "from nltk. stem. wordnet import WordNetLemmatizer\n",
    "from gensim. models import Word2Vec\n",
    "from gensim. models import KeyedVectors\n",
    "import pickle\n",
    "import scipy as sp\n",
    "from tqdm import tqdm\n",
    "import os\n",
    "from sklearn. cross_validation import train_test_split\n",
    "from sklearn. neighbors import KNeighborsClassifier\n",
    "from sklearn. metrics import accuracy_score\n",
    "from sklearn. cross_validation import cross_val_score\n",
    "from collections import Counter\n",
    "from sklearn. metrics import accuracy_score\n",
    "from sklearn import cross_validation\n",
    "from sklearn. metrics import confusion_matrix\n",
    "from sklearn. preprocessing import normalize\n",
    "from sklearn import datasets, neighbors\n",
    "from sklearn. metrics import roc_auc_score\n",
    "from sklearn. preprocessing import StandardScaler\n",
    "\n",
    "from sklearn.linear_model import LogisticRegression\n",
    "from sklearn.model_selection import GridSearchCV"
   ]
  },
  {
   "cell_type": "markdown",
   "metadata": {},
   "source": [
    "## Load files"
   ]
  },
  {
   "cell_type": "code",
   "execution_count": 2,
   "metadata": {},
   "outputs": [],
   "source": [
    "from scipy.sparse import load_npz\n",
    "\n",
    "path = \"C:/Python/Assignments/Preprocessing/\"\n",
    "\n",
    "train_bow = load_npz(path + \"train_bow.npz\")\n",
    "test_bow = load_npz(path + \"test_bow.npz\")\n",
    "cv_bow = load_npz(path + \"cv_bow.npz\")\n",
    "\n",
    "train_tfidf = load_npz(path + \"train_tfidf.npz\")\n",
    "test_tfidf = load_npz(path + \"test_tfidf.npz\")\n",
    "cv_tfidf = load_npz(path + \"cv_tfidf.npz\")\n",
    "\n",
    "with open(path +\"X_test.txt\", \"rb\") as file:\n",
    "    X_test = pickle.load(file)\n",
    "with open(path +\"X_train.txt\", \"rb\") as file:\n",
    "    X_train = pickle.load(file)\n",
    "with open(path +\"X_cv.txt\", \"rb\") as file:\n",
    "    X_cv = pickle.load(file)\n",
    "    \n",
    "with open(path +\"Y_test.txt\", \"rb\") as file:\n",
    "    Y_test = pickle.load(file)\n",
    "with open(path +\"Y_train.txt\", \"rb\") as file:\n",
    "    Y_train = pickle.load(file)\n",
    "with open(path +\"Y_cv.txt\", \"rb\") as file:\n",
    "    Y_cv = pickle.load(file)\n",
    "\n",
    "with open(path + \"X_cv_sum.txt\", \"rb\") as file:\n",
    "    X_cv_sum = pickle.load(file)\n",
    "with open(path + \"X_train_sum.txt\", \"rb\") as file:\n",
    "    X_train_sum = pickle.load(file)\n",
    "with open(path + \"X_test_sum.txt\", \"rb\") as file:\n",
    "    X_test_sum = pickle.load(file)\n",
    "\n",
    "with open(path + \"train_avgw2v.txt\", \"rb\") as file:\n",
    "    train_avgw2v = pickle.load(file)\n",
    "with open(path + \"cv_avgw2v.txt\", \"rb\") as file:\n",
    "    cv_avgw2v = pickle.load(file)\n",
    "with open(path + \"test_avgw2v.txt\", \"rb\") as file:\n",
    "    test_avgw2v = pickle.load(file)\n",
    "\n",
    "with open(path + \"train_tfw2v.txt\", \"rb\") as file:\n",
    "    train_tfw2v = pickle.load(file)\n",
    "with open(path + \"cv_tfw2v.txt\", \"rb\") as file:\n",
    "    cv_tfw2v = pickle.load(file)\n",
    "with open(path + \"test_tfw2v.txt\", \"rb\") as file:\n",
    "    test_tfw2v = pickle.load(file)\n",
    "    "
   ]
  },
  {
   "cell_type": "markdown",
   "metadata": {},
   "source": [
    "## Perturbation test"
   ]
  },
  {
   "cell_type": "code",
   "execution_count": 21,
   "metadata": {
    "scrolled": false
   },
   "outputs": [
    {
     "name": "stdout",
     "output_type": "stream",
     "text": [
      "0 th percentile :  4.451370647263386e-06\n",
      "10 th percentile :  0.01870391465522537\n",
      "20 th percentile :  0.03832933387488243\n",
      "30 th percentile :  0.06094077172820901\n",
      "40 th percentile :  0.08968890381892705\n",
      "50 th percentile :  0.1353832989351886\n",
      "60 th percentile :  0.2202589423566125\n",
      "70 th percentile :  0.39585115928025555\n",
      "80 th percentile :  0.8890882690016628\n",
      "90 th percentile :  3.886160344864363\n",
      "100 th percentile :  9692.69245682406\n"
     ]
    },
    {
     "data": {
      "text/plain": [
       "[<matplotlib.lines.Line2D at 0x94ed5d3240>]"
      ]
     },
     "execution_count": 21,
     "metadata": {},
     "output_type": "execute_result"
    },
    {
     "data": {
      "image/png": "[encoded data removed]",
      "text/plain": [
       "<Figure size 432x288 with 1 Axes>"
      ]
     },
     "metadata": {},
     "output_type": "display_data"
    }
   ],
   "source": [
    "# Please write all the code with proper documentation0\n",
    "\n",
    "LR = LogisticRegression(penalty='l2',C=1)\n",
    "LR.fit(train_bow,Y_train)\n",
    "weight1 = LR.coef_ # weight vector\n",
    "\n",
    "# Getting new data set by addind a small noise\n",
    "new_train = train_bow.astype(float)\n",
    "new_train.data += np.random.uniform(-0.0001,0.0001,1 )\n",
    "\n",
    "# Fitting the model again on new data\n",
    "LR = LogisticRegression(penalty='l2',C=1)\n",
    "LR.fit(new_train,Y_train)\n",
    "weight2 = LR.coef_\n",
    "\n",
    "# Adding small esilon to weight vector to avoid division by 0\n",
    "weight1 += 10**-6\n",
    "weight2 += 10**-6\n",
    "\n",
    "percentage_change_vector = abs( (weight1-weight2) / (weight1) )*100\n",
    "\n",
    "t = range(0,101,10)\n",
    "for i in t:\n",
    "    print(i, \"th percentile : \",np.percentile(percentage_change_vector,i))\n",
    "\n",
    "plt.plot(t,np.percentile(percentage_change_vector,t) )"
   ]
  },
  {
   "cell_type": "markdown",
   "metadata": {},
   "source": [
    "There is a sudden change between 90th and 100th percentile"
   ]
  },
  {
   "cell_type": "code",
   "execution_count": 24,
   "metadata": {
    "scrolled": false
   },
   "outputs": [
    {
     "name": "stdout",
     "output_type": "stream",
     "text": [
      "90 th percentile :  3.886160344864363\n",
      "91 th percentile :  4.795425819510029\n",
      "92 th percentile :  5.768714146563576\n",
      "93 th percentile :  7.023537370630276\n",
      "94 th percentile :  8.286863364100858\n",
      "95 th percentile :  9.916093637773452\n",
      "96 th percentile :  12.414431307501014\n",
      "97 th percentile :  15.195465026239322\n",
      "98 th percentile :  20.396779643912797\n",
      "99 th percentile :  29.260534985921115\n",
      "100 th percentile :  9692.69245682406\n"
     ]
    },
    {
     "data": {
      "text/plain": [
       "[<matplotlib.lines.Line2D at 0x94ed991dd8>]"
      ]
     },
     "execution_count": 24,
     "metadata": {},
     "output_type": "execute_result"
    },
    {
     "data": {
      "image/png": "[encoded data removed]",
      "text/plain": [
       "<Figure size 432x288 with 1 Axes>"
      ]
     },
     "metadata": {},
     "output_type": "display_data"
    }
   ],
   "source": [
    "t = range(90,101,1)\n",
    "for i in t:\n",
    "    print(i, \"th percentile : \",np.percentile(percentage_change_vector,i))\n",
    "\n",
    "plt.plot(t,np.percentile(percentage_change_vector,t) )"
   ]
  },
  {
   "cell_type": "markdown",
   "metadata": {},
   "source": [
    "There is a sudden change between 95th percentile onwards"
   ]
  },
  {
   "cell_type": "code",
   "execution_count": 37,
   "metadata": {
    "scrolled": false
   },
   "outputs": [
    {
     "name": "stdout",
     "output_type": "stream",
     "text": [
      "95.0 th percentile :  9.916093637773452\n",
      "95.5 th percentile :  11.038820595647032\n",
      "96.0 th percentile :  12.414431307501014\n",
      "96.5 th percentile :  13.821363534929556\n",
      "97.0 th percentile :  15.195465026239322\n",
      "97.5 th percentile :  17.554993392995918\n",
      "98.0 th percentile :  20.396779643912797\n",
      "98.5 th percentile :  24.54214372037862\n",
      "99.0 th percentile :  29.260534985921115\n",
      "99.5 th percentile :  52.09944603311355\n"
     ]
    },
    {
     "data": {
      "text/plain": [
       "[<matplotlib.lines.Line2D at 0x94ed37ceb8>]"
      ]
     },
     "execution_count": 37,
     "metadata": {},
     "output_type": "execute_result"
    },
    {
     "data": {
      "image/png": "[encoded data removed]",
      "text/plain": [
       "<Figure size 432x288 with 1 Axes>"
      ]
     },
     "metadata": {},
     "output_type": "display_data"
    }
   ],
   "source": [
    "t = np.linspace(95,99.5,10)\n",
    "for i in t:\n",
    "    print(i, \"th percentile : \",np.percentile(percentage_change_vector,i))\n",
    "\n",
    "plt.plot(t,np.percentile(percentage_change_vector,t) )"
   ]
  },
  {
   "cell_type": "markdown",
   "metadata": {},
   "source": [
    "There is a sudden change between 99th percentile onwards"
   ]
  },
  {
   "cell_type": "code",
   "execution_count": 38,
   "metadata": {},
   "outputs": [
    {
     "name": "stdout",
     "output_type": "stream",
     "text": [
      "99.0 th percentile :  29.260534985921115\n",
      "99.05555555555556 th percentile :  29.995598997246333\n",
      "99.11111111111111 th percentile :  30.39957262714531\n",
      "99.16666666666667 th percentile :  32.274772363349754\n",
      "99.22222222222223 th percentile :  36.75318572797451\n",
      "99.27777777777777 th percentile :  38.728997114851765\n",
      "99.33333333333333 th percentile :  41.856131939804456\n",
      "99.38888888888889 th percentile :  44.13990358245377\n",
      "99.44444444444444 th percentile :  47.76500878928966\n",
      "99.5 th percentile :  52.09944603311355\n"
     ]
    },
    {
     "data": {
      "text/plain": [
       "[<matplotlib.lines.Line2D at 0x94ef64ca90>]"
      ]
     },
     "execution_count": 38,
     "metadata": {},
     "output_type": "execute_result"
    },
    {
     "data": {
      "image/png": "[encoded data removed]",
      "text/plain": [
       "<Figure size 432x288 with 1 Axes>"
      ]
     },
     "metadata": {},
     "output_type": "display_data"
    }
   ],
   "source": [
    "t = np.linspace(99,99.5,10)\n",
    "for i in t:\n",
    "    print(i, \"th percentile : \",np.percentile(percentage_change_vector,i))\n",
    "\n",
    "plt.plot(t,np.percentile(percentage_change_vector,t) )"
   ]
  },
  {
   "cell_type": "markdown",
   "metadata": {},
   "source": [
    "Since there is no sudden rise, I will be taking 30% as my threshold"
   ]
  },
  {
   "cell_type": "code",
   "execution_count": 67,
   "metadata": {
    "scrolled": true
   },
   "outputs": [
    {
     "name": "stdout",
     "output_type": "stream",
     "text": [
      "Percentage of features which did not change by more than 30% is : 99.07464674818021\n"
     ]
    }
   ],
   "source": [
    "diff = (abs((weight1 - weight2)/weight1)) * 100\n",
    "q = diff[np.where(diff > 30)].size\n",
    "print(\"Percentage of features which did not change by more than 30% is :\",(weight1.size - q)/weight1.size*100)"
   ]
  },
  {
   "cell_type": "markdown",
   "metadata": {},
   "source": [
    "## Printing features which got changed by more than 30%"
   ]
  },
  {
   "cell_type": "code",
   "execution_count": 84,
   "metadata": {},
   "outputs": [],
   "source": [
    "feat_log = (abs((weight1 - weight2)/weight1)) * 100\n",
    "\n",
    "count_vect = CountVectorizer()\n",
    "p = count_vect.fit_transform(X_train)\n",
    "p = pd.DataFrame(feat_log.T,columns=['%change'])\n",
    "p['feature'] = count_vect.get_feature_names()\n",
    "q = p.sort_values(by = '%change',kind = 'quicksort',ascending= False)\n"
   ]
  },
  {
   "cell_type": "code",
   "execution_count": 90,
   "metadata": {},
   "outputs": [
    {
     "name": "stdout",
     "output_type": "stream",
     "text": [
      "The features which got changed by more than 30% are : \n",
      " ['combating' 'officinalis' 'matricaria' 'valeriana' 'chrysina'\n",
      " 'scutellarian' 'physicals' 'dropp' 'mirky' 'packetthis' 'teachouses'\n",
      " 'invitingly' 'marion' 'letterings' 'learntto' 'isignature' 'unrivalled'\n",
      " 'reknowned' 'open' 'prematurely' 'doomsday' 'grabber' 'hase' 'applebee'\n",
      " 'shurocka' 'fresheners' 'calendula' 'yarrow' 'asteraceae' 'antoinette'\n",
      " 'penchant' 'trioka' 'shus' 'jiices' 'strengh' 'equisitely' 'appelation'\n",
      " 'sine' 'preseratives' 'fructrose' 'artificialcolours' 'scrumtuutious'\n",
      " 'foreswear' 'milliter' 'boilt' 'pronounciation' 'britvic' 'sopft'\n",
      " 'sapple' 'proucts' 'comcntrated' 'chestnuts' 'menstruating'\n",
      " 'pharmacopoeial' 'smileoverall' 'chastised' 'chastise' 'ado' 'fukusa'\n",
      " 'chado' 'furo' 'natsume' 'connoseur' 'pasticcio' 'dims' 'proportioning'\n",
      " 'eon' 'aberdeen' 'poets' 'buttocks' 'winded' 'merited' 'boorish'\n",
      " 'disconnected' 'fuzziness' 'transpire' 'ensured' 'distinctions' 'wronged'\n",
      " 'kitchenwares' 'silence' 'worthiness' 'unplugged' 'laryngitis' 'bulger'\n",
      " 'cylon' 'varicose' 'teagarden' 'beverly' 'hepatitis' 'protestant'\n",
      " 'epidemiological' 'mindell' 'grainless' 'sifting' 'grater' 'pralus'\n",
      " 'tofurky' 'novels' 'expansions' 'iteresting' 'essoil' 'varment' 'aaaah'\n",
      " 'op' 'ofthat' 'impotency' 'pituitary' 'excerpts' 'fer' 'rooms' 'itoen'\n",
      " 'osaka' 'nicaraguantimothy' 'boldfor' 'blendtully' 'blendcoffee'\n",
      " 'darkgloria' 'mudslidetimothy' 'veredagloria' 'reserveand' 'gospel'\n",
      " 'boldgreen' 'boldgloria' 'blendgreen' 'roasttimothy' 'coffeegloria'\n",
      " 'coffeeemeril' 'coffeecoffee' 'nightstimothy' 'incas' 'qualities'\n",
      " 'rigate' 'blendtimothy' 'boldtimothy' 'rescued' 'differentiated'\n",
      " 'specialy' 'maternity' 'organicsyrups' 'senseless' 'kritters' 'lordship'\n",
      " 'bedlam' 'wending' 'charter' 'ungaily' 'creativly' 'rescuer' 'kidnapped'\n",
      " 'unwillingly' 'klub' 'lenghth' 'neigborhood' 'butttttt' 'abuts'\n",
      " 'immunosuppresed' 'thereon' 'planners' 'boundary' 'likesso' 'estabished'\n",
      " 'catsi' 'wighed' 'feralsyear' 'cavorting' 'warbling' 'undernourished'\n",
      " 'fluctuations' 'konas' 'healthcheck' 'scalings' 'landatory' 'huangyan'\n",
      " 'rejuvenates' 'triphala' 'theanines' 'ukra' 'concoct' 'phonies'\n",
      " 'conviction' 'insured' 'moonlight' 'startle' 'sayin' 'platelets'\n",
      " 'ameltability' 'apocaratenal' 'remmber' 'ispreadability' 'boght'\n",
      " 'citratecontains' 'fondu' 'bordon' 'believethe' 'boomer' 'andi' 'eyars'\n",
      " 'teensiest' 'imporant' 'milkfat' 'entreat' 'amacaroni' 'yellower'\n",
      " 'manuacturers' 'amac' 'velvetta' 'culturea' 'threee' 'hyman' 'gamemy'\n",
      " 'primer' 'skeletal' 'esli' 'ultrametabolism' 'bircherm' 'surviver'\n",
      " 'liability' 'chatter' 'conforms' 'conservations' 'dreck' 'riled' 'neill'\n",
      " 'cue' 'stalwarts' 'xv' 'althos' 'preppie' 'dumas' 'compounding' 'xvi'\n",
      " 'personalcare' 'xiv' 'interferes' 'mongut' 'volumiizing' 'availabily'\n",
      " 'artagnon' 'magnificient' 'siam' 'porthos' 'facimilies' 'blankenshipthe'\n",
      " 'scavenging' 'thaimine' 'nikki' 'recommending' 'musketters' 'undisturbed'\n",
      " 'leafed' 'handpicked' 'masterfully' 'provoking' 'vapor' 'designing'\n",
      " 'competence' 'deliveryi' 'easer' 'amorphous' 'maintainability' 'pulsing'\n",
      " 'nuisances' 'hyperglycemia' 'judiciously' 'torched' 'impeded' 'decidely'\n",
      " 'huangjinggui' 'solidness' 'sedating' 'jaws' 'parasitic' 'pamphlets'\n",
      " 'lidia' 'invasions' 'burrowing' 'practitioners' 'proteinate' 'scrump'\n",
      " 'milliliters' 'scrumptuutious' 'harmoniously' 'caffeinechina'\n",
      " 'experiencelotus' 'teachai' 'bittercalm' 'teatheir' 'caffeineearl'\n",
      " 'luxuriouswild' 'perhapszen' 'ispassion' 'vessels' 'pai' 'cylindrical'\n",
      " 'optioned' 'comnutritional' 'pomegranites' 'habituate' 'naturespath'\n",
      " 'pont' 'breadth' 'visitng' 'anastasia' 'malden' 'scraching' 'inadequte'\n",
      " 'reinvigorate' 'blurry' 'emblic' 'reminisces' 'herbalists' 'cognoscenti'\n",
      " 'bbs' 'favoured' 'dilutantes' 'impotant' 'extraneious' 'ht' 'tomoato'\n",
      " 'consistanc' 'resear' 'fashined' 'pharamacy' 'spellings' 'stereotype'\n",
      " 'guo' 'teadrop' 'poll' 'hunan' 'banks' 'mated' 'diagnostic' 'gabriella'\n",
      " 'riparian' 'saga' 'conflict' 'meyerberg' 'saltmy' 'hao' 'amour' 'zhen'\n",
      " 'baned' 'refinded' 'documentary' 'sails' 'reform' 'sorbic' 'classifies'\n",
      " 'conflicted' 'environmentalist' 'migrating' 'colby' 'cfia' 'cifa'\n",
      " 'warinings' 'preheats' 'fahrenheidt' 'wondercocoa' 'lengthy' 'microbial'\n",
      " 'cooconut' 'whizz' 'lamingtons' 'laksa' 'muffin' 'excrete' 'commemorates'\n",
      " 'purty' 'paintings' 'memento' 'galveston' 'disturbances' 'subsiding'\n",
      " 'cholera' 'nitrogenous' 'calorific' 'measles' 'urethral' 'albumen'\n",
      " 'participants' 'conclusions' 'wort' 'shows' 'metaphysical' 'tlcs'\n",
      " 'overconsume' 'kindling' 'cetera']\n"
     ]
    }
   ],
   "source": [
    "p1 = q.loc[q['%change']>30]\n",
    "print(\"The features which got changed by more than 30% are : \\n\",np.array(p1['feature']))"
   ]
  },
  {
   "cell_type": "markdown",
   "metadata": {},
   "source": [
    "## Conclusion\n",
    "\n",
    "**1. Since 99.7% of the features did not changed the values more than 30%, So we can say that there is no multicollinearity ** "
   ]
  }
 ],
 "metadata": {
  "kernelspec": {
   "display_name": "Python 3",
   "language": "python",
   "name": "python3"
  },
  "language_info": {
   "codemirror_mode": {
    "name": "ipython",
    "version": 3
   },
   "file_extension": ".py",
   "mimetype": "text/x-python",
   "name": "python",
   "nbconvert_exporter": "python",
   "pygments_lexer": "ipython3",
   "version": "3.6.5"
  }
 },
 "nbformat": 4,
 "nbformat_minor": 2
}
